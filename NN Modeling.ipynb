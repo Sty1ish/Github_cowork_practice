{
 "cells": [
  {
   "cell_type": "code",
   "execution_count": 1,
   "id": "99f8aed4",
   "metadata": {},
   "outputs": [],
   "source": [
    "import pandas as pd \n",
    "import numpy as np\n",
    "import matplotlib.pyplot as plt\n",
    "import seaborn as sns\n",
    "import os \n",
    "from datetime import datetime\n",
    "import pandas as pd \n",
    "import numpy as np \n",
    "import keras\n",
    "from sklearn.preprocessing import MinMaxScaler \n",
    "from sklearn.model_selection import TimeSeriesSplit \n",
    "from sklearn.model_selection import train_test_split\n",
    "from keras.models import Sequential \n",
    "from keras.layers import Dense, Flatten, Dropout, LSTM, GRU\n",
    "from sklearn.metrics import mean_squared_error\n",
    "from keras.layers import Dropout,BatchNormalization\n",
    "\n",
    "os.chdir(r'D:\\Github 작업용\\Github_cowork_practice')"
   ]
  },
  {
   "cell_type": "code",
   "execution_count": null,
   "outputs": [],
   "source": [
    "train_data = pd.read_csv('Embedding_train_data.csv')\n",
    "test_data = pd.read_csv('Embedding_test_data.csv')"
   ],
   "metadata": {
    "collapsed": false,
    "pycharm": {
     "name": "#%%\n"
    }
   }
  },
  {
   "cell_type": "code",
   "execution_count": null,
   "outputs": [],
   "source": [
    "#정규화\n",
    "#data = df.drop(['ymdhm', 'ymd'],axis=1)\n",
    "\n",
    "data = df.loc[:,['swl', 'inf', 'sfw', 'ecpc', 'tototf', 'tide_level',\n",
    "                 'rf_10184100', 'rf_10184110', 'rf_10184140',\n",
    "                 'wl_1018662', 'fw_1018662', 'wl_1018680', 'wl_1018683',\n",
    "                 'fw_1018683', 'wl_1019630', 'fw_1019630']]\n",
    "\n",
    "target = df.loc[:,['wl_1018662', 'wl_1018680', 'wl_1018683', 'wl_1019630']]\n",
    "\n",
    "data_scaler = MinMaxScaler()\n",
    "data_scaled = data_scaler.fit_transform(data)\n",
    "\n",
    "target_scaler = MinMaxScaler()\n",
    "target_scaled = target_scaler.fit_transform(target)\n",
    "\n",
    "#전처리\n",
    "window_size = 144 # 10분 단위\n",
    "\n",
    "data_list = []\n",
    "target_list = []\n",
    "\n",
    "for i in range(window_size, len(data_scaled)):\n",
    "    data_list.append(np.array(data_scaled[i-window_size:i]))\n",
    "    target_list.append(np.array(target_scaled[i]))\n",
    "\n",
    "data_ar = np.array(data_list)\n",
    "target_ar = np.array(target_list)\n",
    "\n",
    "print(np.shape(data_ar), np.shape(target_ar))"
   ],
   "metadata": {
    "collapsed": false,
    "pycharm": {
     "name": "#%%\n"
    }
   }
  },
  {
   "cell_type": "code",
   "execution_count": 16,
   "id": "8c321831",
   "metadata": {},
   "outputs": [],
   "source": [
    "# train set, test set 분할 \n",
    "x_train, x_test, y_train, y_test = train_test_split(data_ar, target_ar, test_size=0.2, shuffle=False, random_state = 2021)"
   ]
  },
  {
   "cell_type": "code",
   "execution_count": 17,
   "id": "10b0e3d9",
   "metadata": {},
   "outputs": [
    {
     "name": "stdout",
     "output_type": "stream",
     "text": [
      "Model: \"sequential\"\n",
      "_________________________________________________________________\n",
      " Layer (type)                Output Shape              Param #   \n",
      "=================================================================\n",
      " lstm (LSTM)                 (None, 144, 128)          74240     \n",
      "                                                                 \n",
      " lstm_1 (LSTM)               (None, 144, 128)          131584    \n",
      "                                                                 \n",
      " lstm_2 (LSTM)               (None, 128)               131584    \n",
      "                                                                 \n",
      " dense (Dense)               (None, 128)               16512     \n",
      "                                                                 \n",
      " dropout (Dropout)           (None, 128)               0         \n",
      "                                                                 \n",
      " dense_1 (Dense)             (None, 128)               16512     \n",
      "                                                                 \n",
      " dropout_1 (Dropout)         (None, 128)               0         \n",
      "                                                                 \n",
      " dense_2 (Dense)             (None, 64)                8256      \n",
      "                                                                 \n",
      " dropout_2 (Dropout)         (None, 64)                0         \n",
      "                                                                 \n",
      " dense_3 (Dense)             (None, 4)                 260       \n",
      "                                                                 \n",
      "=================================================================\n",
      "Total params: 378,948\n",
      "Trainable params: 378,948\n",
      "Non-trainable params: 0\n",
      "_________________________________________________________________\n"
     ]
    }
   ],
   "source": [
    "model = Sequential()\n",
    "model.add(LSTM(128, input_shape=(window_size, 16), return_sequences = True))\n",
    "model.add(LSTM(128, return_sequences = True))\n",
    "model.add(LSTM(128))\n",
    "model.add(Dense(128, activation='swish'))\n",
    "model.add(Dropout(0.3))\n",
    "model.add(Dense(128,activation='swish'))\n",
    "model.add(Dropout(0.3))\n",
    "model.add(Dense(64,activation='swish'))\n",
    "model.add(Dropout(0.3))\n",
    "model.add(Dense(4))\n",
    "\n",
    "# model compile\n",
    "model.compile(loss='mse', optimizer='adam') \n",
    "model.summary()"
   ]
  },
  {
   "cell_type": "code",
   "execution_count": null,
   "id": "9f7695b7",
   "metadata": {
    "pycharm": {
     "is_executing": true
    }
   },
   "outputs": [
    {
     "name": "stdout",
     "output_type": "stream",
     "text": [
      "Epoch 1/500\n",
      "842/842 [==============================] - 46s 48ms/step - loss: 3.5455e-04 - val_loss: 1.4118e-04 - lr: 0.0010\n",
      "Epoch 2/500\n",
      "842/842 [==============================] - 38s 45ms/step - loss: 1.5616e-04 - val_loss: 1.1104e-04 - lr: 0.0010\n",
      "Epoch 3/500\n",
      "842/842 [==============================] - 38s 45ms/step - loss: 1.3280e-04 - val_loss: 1.2217e-04 - lr: 0.0010\n",
      "Epoch 4/500\n",
      "842/842 [==============================] - 40s 47ms/step - loss: 1.1989e-04 - val_loss: 1.2549e-04 - lr: 0.0010\n",
      "Epoch 5/500\n",
      "842/842 [==============================] - 37s 44ms/step - loss: 1.1491e-04 - val_loss: 2.5552e-04 - lr: 0.0010\n",
      "Epoch 6/500\n",
      "842/842 [==============================] - 43s 51ms/step - loss: 1.0758e-04 - val_loss: 8.1389e-05 - lr: 0.0010\n",
      "Epoch 7/500\n",
      "842/842 [==============================] - 38s 45ms/step - loss: 9.8328e-05 - val_loss: 1.0158e-04 - lr: 5.0000e-04\n",
      "Epoch 8/500\n",
      "842/842 [==============================] - 40s 47ms/step - loss: 9.8948e-05 - val_loss: 1.2349e-04 - lr: 5.0000e-04\n",
      "Epoch 9/500\n",
      "842/842 [==============================] - 40s 48ms/step - loss: 1.0085e-04 - val_loss: 6.9157e-05 - lr: 5.0000e-04\n",
      "Epoch 10/500\n",
      "842/842 [==============================] - 42s 50ms/step - loss: 9.7111e-05 - val_loss: 5.5876e-05 - lr: 5.0000e-04\n",
      "Epoch 11/500\n",
      "842/842 [==============================] - 37s 44ms/step - loss: 9.8444e-05 - val_loss: 1.1194e-04 - lr: 5.0000e-04\n",
      "Epoch 12/500\n",
      "842/842 [==============================] - 38s 45ms/step - loss: 9.3028e-05 - val_loss: 5.7336e-05 - lr: 2.5000e-04\n",
      "Epoch 13/500\n",
      "842/842 [==============================] - 41s 49ms/step - loss: 9.2542e-05 - val_loss: 7.1222e-05 - lr: 2.5000e-04\n",
      "Epoch 14/500\n",
      "842/842 [==============================] - 38s 45ms/step - loss: 9.2381e-05 - val_loss: 6.4048e-05 - lr: 2.5000e-04\n",
      "Epoch 15/500\n",
      "842/842 [==============================] - 39s 46ms/step - loss: 9.3858e-05 - val_loss: 7.0590e-05 - lr: 2.5000e-04\n",
      "Epoch 16/500\n",
      "842/842 [==============================] - 38s 45ms/step - loss: 9.3688e-05 - val_loss: 5.8525e-05 - lr: 2.5000e-04\n",
      "Epoch 17/500\n",
      "842/842 [==============================] - 37s 44ms/step - loss: 8.9612e-05 - val_loss: 5.9424e-05 - lr: 1.2500e-04\n",
      "Epoch 18/500\n",
      "842/842 [==============================] - 38s 45ms/step - loss: 8.9341e-05 - val_loss: 5.2984e-05 - lr: 1.2500e-04\n",
      "Epoch 19/500\n",
      "842/842 [==============================] - 38s 45ms/step - loss: 8.8882e-05 - val_loss: 5.4073e-05 - lr: 1.2500e-04\n",
      "Epoch 20/500\n",
      "842/842 [==============================] - 38s 45ms/step - loss: 8.9649e-05 - val_loss: 7.4397e-05 - lr: 1.2500e-04\n",
      "Epoch 21/500\n",
      "842/842 [==============================] - 40s 48ms/step - loss: 8.9660e-05 - val_loss: 5.7468e-05 - lr: 1.2500e-04\n",
      "Epoch 22/500\n",
      "842/842 [==============================] - 38s 45ms/step - loss: 8.8590e-05 - val_loss: 5.3241e-05 - lr: 6.2500e-05\n",
      "Epoch 23/500\n",
      "842/842 [==============================] - 39s 46ms/step - loss: 8.8615e-05 - val_loss: 5.4500e-05 - lr: 6.2500e-05\n",
      "Epoch 24/500\n",
      "842/842 [==============================] - 38s 45ms/step - loss: 8.7239e-05 - val_loss: 5.1797e-05 - lr: 6.2500e-05\n",
      "Epoch 25/500\n",
      "842/842 [==============================] - 39s 46ms/step - loss: 8.8275e-05 - val_loss: 5.2358e-05 - lr: 6.2500e-05\n",
      "Epoch 26/500\n",
      "842/842 [==============================] - 41s 48ms/step - loss: 8.9147e-05 - val_loss: 4.8897e-05 - lr: 6.2500e-05\n",
      "Epoch 27/500\n",
      "842/842 [==============================] - 37s 44ms/step - loss: 8.8684e-05 - val_loss: 5.1835e-05 - lr: 3.1250e-05\n",
      "Epoch 28/500\n",
      "842/842 [==============================] - 38s 45ms/step - loss: 8.6571e-05 - val_loss: 5.1485e-05 - lr: 3.1250e-05\n",
      "Epoch 29/500\n",
      "842/842 [==============================] - 38s 45ms/step - loss: 8.6189e-05 - val_loss: 4.4644e-05 - lr: 3.1250e-05\n",
      "Epoch 30/500\n",
      "842/842 [==============================] - 38s 45ms/step - loss: 8.5499e-05 - val_loss: 4.5316e-05 - lr: 3.1250e-05\n",
      "Epoch 31/500\n",
      "842/842 [==============================] - 39s 47ms/step - loss: 8.7730e-05 - val_loss: 4.8963e-05 - lr: 3.1250e-05\n",
      "Epoch 32/500\n",
      "842/842 [==============================] - 42s 50ms/step - loss: 8.6200e-05 - val_loss: 4.7408e-05 - lr: 1.5625e-05\n",
      "Epoch 33/500\n",
      "842/842 [==============================] - 40s 47ms/step - loss: 8.5978e-05 - val_loss: 4.8023e-05 - lr: 1.5625e-05\n",
      "Epoch 34/500\n",
      "842/842 [==============================] - 40s 48ms/step - loss: 8.5802e-05 - val_loss: 4.6738e-05 - lr: 1.5625e-05\n",
      "Epoch 35/500\n",
      "842/842 [==============================] - 39s 47ms/step - loss: 8.7081e-05 - val_loss: 4.1826e-05 - lr: 1.5625e-05\n",
      "Epoch 36/500\n",
      "842/842 [==============================] - 41s 49ms/step - loss: 8.6600e-05 - val_loss: 4.6924e-05 - lr: 1.5625e-05\n",
      "Epoch 37/500\n",
      "842/842 [==============================] - 39s 46ms/step - loss: 8.6002e-05 - val_loss: 4.2426e-05 - lr: 1.0000e-05\n",
      "Epoch 38/500\n",
      "842/842 [==============================] - 41s 48ms/step - loss: 8.6514e-05 - val_loss: 4.6503e-05 - lr: 1.0000e-05\n",
      "Epoch 39/500\n",
      "585/842 [===================>..........] - ETA: 11s - loss: 8.6091e-05"
     ]
    }
   ],
   "source": [
    "# model setting\n",
    "early_stopping = keras.callbacks.EarlyStopping(patience = 15, restore_best_weights = True)\n",
    "reduce_lr = keras.callbacks.ReduceLROnPlateau(monitor='val_loss', factor=0.5, patience=5, min_lr=0.00001)\n",
    "history = model.fit(x_train, y_train, batch_size=256, epochs=500, callbacks=[early_stopping, reduce_lr], validation_data=(x_test, y_test))"
   ]
  },
  {
   "cell_type": "code",
   "execution_count": null,
   "id": "ff4a8058",
   "metadata": {
    "pycharm": {
     "is_executing": true
    }
   },
   "outputs": [],
   "source": [
    "#model.save(str(window_size)+'model_lstm-16col_11+sgfilter15-2.h5')\n",
    "model = keras.models.load_model('144model_3lstm-4dense.h5')"
   ]
  },
  {
   "cell_type": "code",
   "execution_count": null,
   "id": "5ab55ed0",
   "metadata": {
    "pycharm": {
     "is_executing": true,
     "name": "#%%\n"
    }
   },
   "outputs": [],
   "source": [
    "#train 예측 \n",
    "train_predictions = model.predict(x_train)\n",
    "\n",
    "#train 역변환 \n",
    "val = target_scaler.inverse_transform(y_train)\n",
    "predictions = target_scaler.inverse_transform(train_predictions)\n",
    "\n",
    "#train RMSE\n",
    "train_RMSE = mean_squared_error(val, predictions)**0.5\n",
    "\n",
    "#test 예측 \n",
    "test_predictions = model.predict(x_test)\n",
    "\n",
    "#test 역변환 \n",
    "val = target_scaler.inverse_transform(y_test)\n",
    "predictions = target_scaler.inverse_transform(test_predictions)\n",
    "\n",
    "#test RMSE\n",
    "test_RMSE = mean_squared_error(val, predictions)**0.5\n",
    "\n",
    "print('train_RMSE:', train_RMSE)\n",
    "print('test_RMSE:', test_RMSE)\n"
   ]
  }
 ],
 "metadata": {
  "kernelspec": {
   "display_name": "Python 3 (ipykernel)",
   "language": "python",
   "name": "python3"
  },
  "language_info": {
   "codemirror_mode": {
    "name": "ipython",
    "version": 3
   },
   "file_extension": ".py",
   "mimetype": "text/x-python",
   "name": "python",
   "nbconvert_exporter": "python",
   "pygments_lexer": "ipython3",
   "version": "3.9.12"
  }
 },
 "nbformat": 4,
 "nbformat_minor": 5
}